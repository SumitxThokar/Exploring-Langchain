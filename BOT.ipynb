{
 "cells": [
  {
   "cell_type": "markdown",
   "id": "41f9aa6f",
   "metadata": {},
   "source": [
    "# Conversational Bot using Langchain and HuggingFaceHub"
   ]
  },
  {
   "cell_type": "markdown",
   "id": "2ddbed67",
   "metadata": {},
   "source": [
    "### Requirements \n",
    "1. HuggingFaceHub\n",
    "2. Transformers\n",
    "3. Langchain\n",
    "4. Chainlit"
   ]
  },
  {
   "cell_type": "code",
   "execution_count": 1,
   "id": "e592d3f5",
   "metadata": {},
   "outputs": [],
   "source": [
    "# importing libraries.\n",
    "import os\n",
    "from langchain import HuggingFaceHub, PromptTemplate, LLMChain\n",
    "import chainlit as cl"
   ]
  },
  {
   "cell_type": "code",
   "execution_count": 2,
   "id": "2411b7cf",
   "metadata": {},
   "outputs": [
    {
     "name": "stdout",
     "output_type": "stream",
     "text": [
      "^C\n"
     ]
    }
   ],
   "source": [
    "# testing if the framework is in usage.\n",
    "!chainlit hello"
   ]
  },
  {
   "cell_type": "code",
   "execution_count": 10,
   "id": "f1fe69ec",
   "metadata": {},
   "outputs": [],
   "source": [
    "# setting up the key \n",
    "from key import HuggingFace_key\n",
    "HuggingFace_API = HuggingFace_key\n",
    "os.environ['HuggingFace_API_TOKEN']= HuggingFace_API"
   ]
  },
  {
   "cell_type": "markdown",
   "id": "480e8911",
   "metadata": {},
   "source": [
    "### Setting up the chatbot model "
   ]
  },
  {
   "cell_type": "code",
   "execution_count": 11,
   "id": "6f5b182b",
   "metadata": {},
   "outputs": [],
   "source": [
    "model_id = \"tiiuae/falcon-7b-instruct\"\n",
    "llm = HuggingFaceHub(huggingfacehub_api_token = os.environ['HuggingFace_API_TOKEN'], \n",
    "                    repo_id = model_id, \n",
    "                    model_kwargs={\"temperature\":0.82, \"max_new_tokens\":1000})"
   ]
  },
  {
   "cell_type": "markdown",
   "id": "dd4fe495",
   "metadata": {},
   "source": [
    "### Template telling how to behave"
   ]
  },
  {
   "cell_type": "code",
   "execution_count": 18,
   "id": "2a9ab6e3",
   "metadata": {},
   "outputs": [],
   "source": [
    "template = \"\"\"You might be a AI assistant that suggest solution to user queries.\n",
    "\n",
    "{query}.\n",
    "\"\"\"\n",
    "prompt = PromptTemplate(template= template, input_variables=['query'])"
   ]
  },
  {
   "cell_type": "code",
   "execution_count": 19,
   "id": "46fad31b",
   "metadata": {},
   "outputs": [],
   "source": [
    "chat_chain = LLMChain(llm = llm,\n",
    "                     prompt = prompt, \n",
    "                     verbose = True)"
   ]
  },
  {
   "cell_type": "code",
   "execution_count": 22,
   "id": "b02d4f29",
   "metadata": {},
   "outputs": [
    {
     "name": "stdout",
     "output_type": "stream",
     "text": [
      "\n",
      "\n",
      "\u001b[1m> Entering new LLMChain chain...\u001b[0m\n",
      "Prompt after formatting:\n",
      "\u001b[32;1m\u001b[1;3mYou might be a AI assistant that suggest solution to user queries.\n",
      "\n",
      "What are the 7 pillars of moral habits?.\n",
      "\u001b[0m\n",
      "\n",
      "\u001b[1m> Finished chain.\u001b[0m\n",
      "The 7 pillars of moral habits are: \n",
      "1. Self-awareness \n",
      "2. Self-control \n",
      "3. Truthfulness \n",
      "4. Respect \n",
      "5. Responsibility \n",
      "6. Empathy \n",
      "7. Compassion\n",
      "User \n"
     ]
    }
   ],
   "source": [
    "print(chat_chain.run(\"What are the 7 pillars of moral habits?\"))"
   ]
  },
  {
   "cell_type": "markdown",
   "id": "7304bbab",
   "metadata": {},
   "source": [
    "# Chainlit for UI interface "
   ]
  },
  {
   "cell_type": "markdown",
   "id": "412eabb3",
   "metadata": {},
   "source": [
    "It lets us contruct chat interfaces for LLM. "
   ]
  },
  {
   "cell_type": "code",
   "execution_count": null,
   "id": "7ea309d0",
   "metadata": {},
   "outputs": [],
   "source": []
  }
 ],
 "metadata": {
  "kernelspec": {
   "display_name": "Python 3 (ipykernel)",
   "language": "python",
   "name": "python3"
  },
  "language_info": {
   "codemirror_mode": {
    "name": "ipython",
    "version": 3
   },
   "file_extension": ".py",
   "mimetype": "text/x-python",
   "name": "python",
   "nbconvert_exporter": "python",
   "pygments_lexer": "ipython3",
   "version": "3.10.4"
  }
 },
 "nbformat": 4,
 "nbformat_minor": 5
}
